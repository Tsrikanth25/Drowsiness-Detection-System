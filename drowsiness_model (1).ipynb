{
  "nbformat": 4,
  "nbformat_minor": 0,
  "metadata": {
    "colab": {
      "provenance": [],
      "gpuType": "T4"
    },
    "kernelspec": {
      "name": "python3",
      "display_name": "Python 3"
    },
    "language_info": {
      "name": "python"
    },
    "accelerator": "GPU"
  },
  "cells": [
    {
      "cell_type": "code",
      "execution_count": 1,
      "metadata": {
        "colab": {
          "base_uri": "https://localhost:8080/"
        },
        "id": "W32Hm9IAhHQ6",
        "outputId": "80e1d3ed-204b-4f3e-b703-c2e42c9e842d"
      },
      "outputs": [
        {
          "output_type": "stream",
          "name": "stdout",
          "text": [
            "Found 1582 images belonging to 4 classes.\n",
            "Found 0 images belonging to 4 classes.\n",
            "Epoch 1/10\n",
            "50/50 [==============================] - 10s 85ms/step - loss: 0.9604 - accuracy: 0.5582\n",
            "Epoch 2/10\n",
            "50/50 [==============================] - 4s 89ms/step - loss: 0.6128 - accuracy: 0.7402\n",
            "Epoch 3/10\n",
            "50/50 [==============================] - 5s 107ms/step - loss: 0.4674 - accuracy: 0.7800\n",
            "Epoch 4/10\n",
            "50/50 [==============================] - 4s 86ms/step - loss: 0.4331 - accuracy: 0.8040\n",
            "Epoch 5/10\n",
            "50/50 [==============================] - 5s 99ms/step - loss: 0.4278 - accuracy: 0.8078\n",
            "Epoch 6/10\n",
            "50/50 [==============================] - 5s 93ms/step - loss: 0.3887 - accuracy: 0.8066\n",
            "Epoch 7/10\n",
            "50/50 [==============================] - 4s 87ms/step - loss: 0.3591 - accuracy: 0.8394\n",
            "Epoch 8/10\n",
            "50/50 [==============================] - 5s 106ms/step - loss: 0.3576 - accuracy: 0.8230\n",
            "Epoch 9/10\n",
            "50/50 [==============================] - 4s 86ms/step - loss: 0.3274 - accuracy: 0.8527\n",
            "Epoch 10/10\n",
            "50/50 [==============================] - 4s 86ms/step - loss: 0.3262 - accuracy: 0.8413\n"
          ]
        },
        {
          "output_type": "stream",
          "name": "stderr",
          "text": [
            "/usr/local/lib/python3.10/dist-packages/keras/src/engine/training.py:3000: UserWarning: You are saving your model as an HDF5 file via `model.save()`. This file format is considered legacy. We recommend using instead the native Keras format, e.g. `model.save('my_model.keras')`.\n",
            "  saving_api.save_model(\n"
          ]
        }
      ],
      "source": [
        "import tensorflow as tf\n",
        "from tensorflow import keras\n",
        "from tensorflow.keras import layers\n",
        "from tensorflow.keras.preprocessing.image import ImageDataGenerator\n",
        "\n",
        "# Define a CNN model for drowsiness prediction with 4 classes\n",
        "model = keras.Sequential([\n",
        "    layers.Conv2D(32, (3, 3), activation='relu', input_shape=(64, 64, 1)),\n",
        "    layers.MaxPooling2D((2, 2)),\n",
        "    layers.Conv2D(64, (3, 3), activation='relu'),\n",
        "    layers.MaxPooling2D((2, 2)),\n",
        "    layers.Flatten(),\n",
        "    layers.Dense(64, activation='relu'),\n",
        "    layers.Dropout(0.5),\n",
        "    layers.Dense(4, activation='softmax')  # Four classes (Drowsy, Alert, Distracted, Asleep)\n",
        "])\n",
        "\n",
        "# Compile the model\n",
        "model.compile(optimizer='adam', loss='categorical_crossentropy', metrics=['accuracy'])\n",
        "\n",
        "# Create data generators for loading and augmenting images\n",
        "train_data_gen = ImageDataGenerator(\n",
        "    rescale=1./255,\n",
        "    shear_range=0.2,\n",
        "    zoom_range=0.2,\n",
        "    horizontal_flip=True\n",
        ")\n",
        "data=!unzip /content/train.zip\n",
        "train_generator = train_data_gen.flow_from_directory(\n",
        "    '/content/train',\n",
        "    target_size=(64, 64),\n",
        "    batch_size=32,\n",
        "    color_mode='grayscale',\n",
        "    class_mode='categorical',\n",
        "    classes=['Closed', 'Open', 'no_yawn', 'yawn']\n",
        ")\n",
        "\n",
        "test_data_gen = ImageDataGenerator(rescale=1./255)\n",
        "\n",
        "test_generator = test_data_gen.flow_from_directory(\n",
        "    'path/to/test_dataset',\n",
        "    target_size=(64, 64),\n",
        "    batch_size=32,\n",
        "    color_mode='grayscale',\n",
        "    class_mode='categorical',\n",
        "    classes=['Closed', 'Open', 'no_yawn', 'yawn']\n",
        ")\n",
        "\n",
        "# Train the model\n",
        "model.fit(train_generator, validation_data=test_generator, epochs=10)\n",
        "\n",
        "# Save the trained model\n",
        "model.save('drowsiness_cnn_model_4_classes.h5')\n"
      ]
    }
  ]
}
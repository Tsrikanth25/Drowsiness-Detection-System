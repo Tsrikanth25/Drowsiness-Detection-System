{
  "nbformat": 4,
  "nbformat_minor": 0,
  "metadata": {
    "colab": {
      "provenance": []
    },
    "kernelspec": {
      "name": "python3",
      "display_name": "Python 3"
    },
    "language_info": {
      "name": "python"
    }
  },
  "cells": [
    {
      "cell_type": "code",
      "execution_count": 18,
      "metadata": {
        "colab": {
          "base_uri": "https://localhost:8080/"
        },
        "id": "wVk24votl6H5",
        "outputId": "646df3a8-c2a2-4262-d9f6-917020604792"
      },
      "outputs": [
        {
          "output_type": "stream",
          "name": "stdout",
          "text": [
            "1/1 [==============================] - 0s 78ms/step\n",
            "1/1 [==============================] - 0s 24ms/step\n",
            "Predicted class1: Open\n",
            "Predicted class2: yawn\n"
          ]
        }
      ],
      "source": [
        "import tensorflow as tf\n",
        "from tensorflow import keras\n",
        "from tensorflow.keras.preprocessing import image\n",
        "import numpy as np\n",
        "\n",
        "# Load the saved model\n",
        "model = keras.models.load_model('/content/drowsiness_cnn_model_4_classes.h5')\n",
        "\n",
        "# Define a function to predict drowsiness from an image\n",
        "def predict_drowsiness(image_path):\n",
        "    img = image.load_img(image_path, target_size=(64, 64))\n",
        "    img_array = image.img_to_array(img)\n",
        "    img_array = np.expand_dims(img_array, axis=0)  # Add a batch dimension\n",
        "    img_array /= 255.0  # Normalize the image data\n",
        "    img_array = tf.image.rgb_to_grayscale(img_array)\n",
        "    prediction = model.predict(img_array)\n",
        "    class_indices = np.argmax(prediction, axis=1)\n",
        "\n",
        "    classes = ['Closed', 'Open', 'no_yawn', 'yawn']\n",
        "    predicted_class = classes[class_indices[0]]\n",
        "    return predicted_class\n",
        "\n",
        "# Example usage\n",
        "\n",
        "image_path1 = '/content/Yawn.jpg'\n",
        "image_path2 = '/content/Open.jpg'\n",
        "predicted_class1 = predict_drowsiness(image_path1)\n",
        "predicted_class2 = predict_drowsiness(image_path2)\n",
        "print(f'Predicted class1: {predicted_class1}')\n",
        "print(f'Predicted class2: {predicted_class2}')\n"
      ]
    }
  ]
}